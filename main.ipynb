{
 "cells": [
  {
   "cell_type": "markdown",
   "metadata": {},
   "source": [
    "# Cryptarithmetic\n",
    "\n",
    "Solve cryparithmetic puzzles by running the different models in notebook."
   ]
  },
  {
   "cell_type": "markdown",
   "metadata": {},
   "source": [
    "#### Imports"
   ]
  },
  {
   "cell_type": "code",
   "execution_count": 1,
   "metadata": {},
   "outputs": [],
   "source": [
    "# Import packages\n",
    "import random\n",
    "from utils.loader import load_puzzle\n",
    "\n",
    "# Models\n",
    "from models.gurobi import gp_solver\n",
    "from models.bruteforce import bf_solver"
   ]
  },
  {
   "cell_type": "code",
   "execution_count": 2,
   "metadata": {},
   "outputs": [],
   "source": [
    "# Set seed for reproducibility\n",
    "random.seed(42)"
   ]
  },
  {
   "cell_type": "markdown",
   "metadata": {},
   "source": [
    "### Input data"
   ]
  },
  {
   "cell_type": "code",
   "execution_count": 3,
   "metadata": {},
   "outputs": [],
   "source": [
    "# Input data\n",
    "puzzle: str = 'VISMA + API + AI + SAAS = HEAVEN'\n",
    "other_letters = ['L']  # Any extra letters that should be included in the solution\n",
    "constraints: dict = {'A': 1, 'M': 2}  # Values the letters cannot take\n",
    "\n",
    "# Solution: Swap integer in \"answer\" with values in result\n",
    "answer = \"31203\""
   ]
  },
  {
   "cell_type": "code",
   "execution_count": 4,
   "metadata": {},
   "outputs": [],
   "source": [
    "# Load data in desirable format\n",
    "variables, lhs_terms, rhs = load_puzzle(puzzle)\n",
    "variables.update(other_letters)"
   ]
  },
  {
   "cell_type": "markdown",
   "metadata": {},
   "source": [
    "### Bruteforce"
   ]
  },
  {
   "cell_type": "code",
   "execution_count": 5,
   "metadata": {},
   "outputs": [
    {
     "name": "stdout",
     "output_type": "stream",
     "text": [
      "{9: 'N', 7: 'M', 3: 'A', 1: 'L', 2: 'P', 0: 'H', 4: 'I', 8: 'S', 5: 'V', 6: 'E'}\n"
     ]
    }
   ],
   "source": [
    "sol = bf_solver(variables, lhs_terms, rhs, constraints, multiprocess=False)\n",
    "print(sol)"
   ]
  },
  {
   "cell_type": "markdown",
   "metadata": {},
   "source": [
    "For a small performance gain, run the solver using multiprocessing."
   ]
  },
  {
   "cell_type": "code",
   "execution_count": 6,
   "metadata": {},
   "outputs": [
    {
     "name": "stdout",
     "output_type": "stream",
     "text": [
      "Running multiprocessing with 8 cores...\n",
      "Exiting with solution: {6: 'E', 4: 'I', 2: 'P', 3: 'A', 1: 'L', 9: 'N', 8: 'S', 7: 'M', 5: 'V', 0: 'H'}\n"
     ]
    }
   ],
   "source": [
    "bf_solver(variables, lhs_terms, rhs, constraints, multiprocess=True)"
   ]
  },
  {
   "cell_type": "code",
   "execution_count": 7,
   "metadata": {},
   "outputs": [
    {
     "name": "stdout",
     "output_type": "stream",
     "text": [
      "Solution: ALPHA\n"
     ]
    }
   ],
   "source": [
    "print(f\"Solution: {''.join([sol[int(letter)] for letter in answer])}\")"
   ]
  },
  {
   "cell_type": "markdown",
   "metadata": {},
   "source": [
    "### Gurobi MILP solver\n",
    "\n",
    "By far the fastest solver."
   ]
  },
  {
   "cell_type": "code",
   "execution_count": 8,
   "metadata": {},
   "outputs": [],
   "source": [
    "sol = gp_solver(variables, lhs_terms, rhs, constraints, False)"
   ]
  },
  {
   "cell_type": "code",
   "execution_count": 9,
   "metadata": {},
   "outputs": [
    {
     "name": "stdout",
     "output_type": "stream",
     "text": [
      "Solution: ALPHA\n"
     ]
    }
   ],
   "source": [
    "print(f\"Solution: {''.join([sol[letter] for letter in answer])}\")"
   ]
  }
 ],
 "metadata": {
  "kernelspec": {
   "display_name": "Python 3.9.12 ('optimization': venv)",
   "language": "python",
   "name": "python3"
  },
  "language_info": {
   "codemirror_mode": {
    "name": "ipython",
    "version": 3
   },
   "file_extension": ".py",
   "mimetype": "text/x-python",
   "name": "python",
   "nbconvert_exporter": "python",
   "pygments_lexer": "ipython3",
   "version": "3.9.12"
  },
  "orig_nbformat": 4,
  "vscode": {
   "interpreter": {
    "hash": "7c840fcb6c37d70ab1b17303852bc14c7d6ceab3bf0116e503246c5b2d2ca1da"
   }
  }
 },
 "nbformat": 4,
 "nbformat_minor": 2
}
